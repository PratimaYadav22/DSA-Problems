{
 "cells": [
  {
   "cell_type": "markdown",
   "metadata": {},
   "source": [
    "Given a String str, reverse the string without reversing its individual words. Words are separated by dots.\n",
    "\n",
    "Note: The last character has not been '.'. \n",
    "\n",
    "Examples :\n",
    "\n",
    "Input: str = i.like.this.program.very.much\n",
    "Output: much.very.program.this.like.i\n",
    "Explanation: After reversing the whole string(not individual words), the input string becomes much.very.program.this.like.i"
   ]
  },
  {
   "cell_type": "code",
   "execution_count": 8,
   "metadata": {},
   "outputs": [
    {
     "name": "stdout",
     "output_type": "stream",
     "text": [
      "much.very.program.this.like.i\n"
     ]
    }
   ],
   "source": [
    "def reverseWords(str):\n",
    "        # code here \n",
    "        str = str.split('.')\n",
    "        reversedString =  str[::-1]\n",
    "        print('.'.join(reversedString))\n",
    "         \n",
    "\n",
    "\n",
    "str1 = \"i.like.this.program.very.much\"\n",
    "result = reverseWords(str1)"
   ]
  }
 ],
 "metadata": {
  "kernelspec": {
   "display_name": "base",
   "language": "python",
   "name": "python3"
  },
  "language_info": {
   "codemirror_mode": {
    "name": "ipython",
    "version": 3
   },
   "file_extension": ".py",
   "mimetype": "text/x-python",
   "name": "python",
   "nbconvert_exporter": "python",
   "pygments_lexer": "ipython3",
   "version": "3.11.5"
  }
 },
 "nbformat": 4,
 "nbformat_minor": 2
}
